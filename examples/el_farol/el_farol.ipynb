{
 "cells": [
  {
   "cell_type": "code",
   "execution_count": null,
   "metadata": {},
   "outputs": [],
   "source": [
    "import matplotlib.pyplot as plt\n",
    "import seaborn as sns\n",
    "from el_farol.model import ElFarolBar"
   ]
  },
  {
   "cell_type": "code",
   "execution_count": null,
   "metadata": {},
   "outputs": [],
   "source": [
    "memory_sizes = [5, 10, 20]\n",
    "crowd_threshold = 60\n",
    "models = [\n",
    "    ElFarolBar(N=100, crowd_threshold=crowd_threshold, memory_size=m)\n",
    "    for m in memory_sizes\n",
    "]\n",
    "for model in models:\n",
    "    for i in range(100):\n",
    "        model.step()"
   ]
  },
  {
   "cell_type": "code",
   "execution_count": null,
   "metadata": {},
   "outputs": [],
   "source": [
    "# You should observe that the attendance converges to 60.\n",
    "_, axs = plt.subplots(1, 3, figsize=(10, 3))\n",
    "for idx, model in enumerate(models):\n",
    "    ax = axs[idx]\n",
    "    plt.sca(ax)\n",
    "    df = model.datacollector.get_model_vars_dataframe()\n",
    "    sns.lineplot(data=df, x=df.index, y=\"Customers\", ax=ax)\n",
    "    ax.set(\n",
    "        xlabel=\"Step\",\n",
    "        ylabel=\"Attendance\",\n",
    "        title=f\"Memory size = {memory_sizes[idx]}\",\n",
    "        ylim=(20, 80),\n",
    "    )\n",
    "    plt.axhline(crowd_threshold, color=\"tab:red\")\n",
    "    plt.tight_layout()"
   ]
  },
  {
   "cell_type": "code",
   "execution_count": null,
   "metadata": {},
   "outputs": [],
   "source": [
    "for idx, memory_size in enumerate(memory_sizes):\n",
    "    model = models[idx]\n",
    "    df = model.datacollector.get_agent_vars_dataframe()\n",
    "    sns.lineplot(\n",
    "        x=df.index.levels[0],\n",
    "        y=df.Utility.groupby(\"Step\").mean(),\n",
    "        label=str(memory_size),\n",
    "    )\n",
    "plt.legend(title=\"Memory size\");"
   ]
  },
  {
   "cell_type": "code",
   "execution_count": null,
   "metadata": {},
   "outputs": [],
   "source": [
    "# Decisions made on across trials\n",
    "fix, axs = plt.subplots(1, 3, figsize=(12, 4))\n",
    "for idx, memory_size in enumerate(memory_sizes):\n",
    "    plt.sca(axs[idx])\n",
    "    df = models[idx].datacollector.get_agent_vars_dataframe()\n",
    "    df.reset_index(inplace=True)\n",
    "    ax = sns.heatmap(df.pivot(index=\"AgentID\", columns=\"Step\", values=\"Attendance\"))\n",
    "    ax.set(title=f\"Memory size = {memory_size}\")\n",
    "    plt.tight_layout()"
   ]
  },
  {
   "cell_type": "code",
   "execution_count": null,
   "metadata": {},
   "outputs": [],
   "source": [
    "# Next, we experiment with varying the number of strategies\n",
    "num_strategies_list = [5, 10, 20]\n",
    "crowd_threshold = 60\n",
    "models = [\n",
    "    ElFarolBar(N=100, crowd_threshold=crowd_threshold, num_strategies=ns)\n",
    "    for ns in num_strategies_list\n",
    "]\n",
    "for model in models:\n",
    "    for i in range(100):\n",
    "        model.step()"
   ]
  },
  {
   "cell_type": "code",
   "execution_count": null,
   "metadata": {},
   "outputs": [],
   "source": [
    "# Attendance of the bar based on the number of strategies\n",
    "_, axs = plt.subplots(1, 3, figsize=(10, 3))\n",
    "for idx, num_strategies in enumerate(num_strategies_list):\n",
    "    model = models[idx]\n",
    "    ax = axs[idx]\n",
    "    plt.sca(ax)\n",
    "    df = model.datacollector.get_model_vars_dataframe()\n",
    "    sns.lineplot(data=df, x=df.index, y=\"Customers\", ax=ax)\n",
    "    ax.set(\n",
    "        xlabel=\"Trial\",\n",
    "        ylabel=\"Attendance\",\n",
    "        title=f\"Number of Strategies = {num_strategies}\",\n",
    "        ylim=(20, 80),\n",
    "    )\n",
    "    plt.axhline(crowd_threshold, color=\"tab:red\")\n",
    "    plt.tight_layout()"
   ]
  }
 ],
 "metadata": {
  "interpreter": {
   "hash": "18b8a6ab22c23ac88fce14986952a46f0d293914064547c699eac09fb58cfe0f"
  },
  "kernelspec": {
   "display_name": "Python 3 (ipykernel)",
   "language": "python",
   "name": "python3"
  },
  "language_info": {
   "codemirror_mode": {
    "name": "ipython",
    "version": 3
   },
   "file_extension": ".py",
   "mimetype": "text/x-python",
   "name": "python",
   "nbconvert_exporter": "python",
   "pygments_lexer": "ipython3",
   "version": "3.11.6"
  }
 },
 "nbformat": 4,
 "nbformat_minor": 4
}
