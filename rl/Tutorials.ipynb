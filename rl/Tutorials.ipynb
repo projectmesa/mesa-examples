{
 "cells": [
  {
   "cell_type": "markdown",
   "metadata": {},
   "source": [
    "# Tutorial: Reinforcement Learning with Mesa Environments\n",
    "\n",
    "Welcome to this comprehensive guide on integrating reinforcement learning (RL) with Mesa environments. \n",
    "Mesa, an agent-based modeling framework, offers an excellent platform to experiment with RL algorithms. \n",
    "In this tutorial, we'll explore several examples of how RL can be applied to various Mesa environments, \n",
    "starting with the **Epstein Civil Violence model**."
   ]
  },
  {
   "cell_type": "markdown",
   "metadata": {},
   "source": [
    "## Getting Started\n",
    "\n",
    "Before diving into the implementation, take a moment to familiarize yourself with the Epstein Civil Violence model.\n",
    "This will give you a solid understanding of the environment we’ll be working with.\n",
    "\n",
    "Next, ensure all dependencies are installed by following the instructions in the `README.md`."
   ]
  },
  {
   "cell_type": "code",
   "execution_count": 1,
   "metadata": {},
   "outputs": [
    {
     "name": "stdout",
     "output_type": "stream",
     "text": [
      "WARNING:tensorflow:From C:\\Users\\thoma\\miniconda3\\envs\\mesa_dev\\Lib\\site-packages\\ray\\rllib\\utils\\framework.py:130: The name tf.logging.set_verbosity is deprecated. Please use tf.compat.v1.logging.set_verbosity instead.\n",
      "\n"
     ]
    },
    {
     "ename": "ModuleNotFoundError",
     "evalue": "No module named 'mesa_models.epstein_civil_violence'",
     "output_type": "error",
     "traceback": [
      "\u001b[1;31m---------------------------------------------------------------------------\u001b[0m",
      "\u001b[1;31mModuleNotFoundError\u001b[0m                       Traceback (most recent call last)",
      "Cell \u001b[1;32mIn[1], line 5\u001b[0m\n\u001b[0;32m      1\u001b[0m \u001b[38;5;66;03m# ### Step 1: Importing the Necessary Modules\u001b[39;00m\n\u001b[0;32m      2\u001b[0m \u001b[38;5;66;03m# To begin, let’s import the required modules for the Epstein Civil Violence model:\u001b[39;00m\n\u001b[0;32m      4\u001b[0m \u001b[38;5;28;01mfrom\u001b[39;00m \u001b[38;5;21;01mepstein_civil_violence\u001b[39;00m\u001b[38;5;21;01m.\u001b[39;00m\u001b[38;5;21;01mmodel\u001b[39;00m \u001b[38;5;28;01mimport\u001b[39;00m EpsteinCivilViolenceRL\n\u001b[1;32m----> 5\u001b[0m \u001b[38;5;28;01mfrom\u001b[39;00m \u001b[38;5;21;01mepstein_civil_violence\u001b[39;00m\u001b[38;5;21;01m.\u001b[39;00m\u001b[38;5;21;01mserver\u001b[39;00m \u001b[38;5;28;01mimport\u001b[39;00m run_model\n\u001b[0;32m      6\u001b[0m \u001b[38;5;28;01mfrom\u001b[39;00m \u001b[38;5;21;01mepstein_civil_violence\u001b[39;00m\u001b[38;5;21;01m.\u001b[39;00m\u001b[38;5;21;01mtrain_config\u001b[39;00m \u001b[38;5;28;01mimport\u001b[39;00m config\n\u001b[0;32m      7\u001b[0m \u001b[38;5;28;01mfrom\u001b[39;00m \u001b[38;5;21;01mtrain\u001b[39;00m \u001b[38;5;28;01mimport\u001b[39;00m train_model\n",
      "File \u001b[1;32m~\\Documents\\GitHub\\dev\\mesa-examples\\rl\\epstein_civil_violence\\server.py:4\u001b[0m\n\u001b[0;32m      2\u001b[0m \u001b[38;5;28;01mimport\u001b[39;00m \u001b[38;5;21;01mnumpy\u001b[39;00m \u001b[38;5;28;01mas\u001b[39;00m \u001b[38;5;21;01mnp\u001b[39;00m\n\u001b[0;32m      3\u001b[0m \u001b[38;5;28;01mimport\u001b[39;00m \u001b[38;5;21;01mray\u001b[39;00m\n\u001b[1;32m----> 4\u001b[0m \u001b[38;5;28;01mfrom\u001b[39;00m \u001b[38;5;21;01mmesa_models\u001b[39;00m\u001b[38;5;21;01m.\u001b[39;00m\u001b[38;5;21;01mepstein_civil_violence\u001b[39;00m\u001b[38;5;21;01m.\u001b[39;00m\u001b[38;5;21;01mportrayal\u001b[39;00m \u001b[38;5;28;01mimport\u001b[39;00m citizen_cop_portrayal\n\u001b[0;32m      5\u001b[0m \u001b[38;5;28;01mfrom\u001b[39;00m \u001b[38;5;21;01mray\u001b[39;00m \u001b[38;5;28;01mimport\u001b[39;00m tune\n\u001b[0;32m      6\u001b[0m \u001b[38;5;28;01mfrom\u001b[39;00m \u001b[38;5;21;01mray\u001b[39;00m\u001b[38;5;21;01m.\u001b[39;00m\u001b[38;5;21;01mrllib\u001b[39;00m\u001b[38;5;21;01m.\u001b[39;00m\u001b[38;5;21;01malgorithms\u001b[39;00m\u001b[38;5;21;01m.\u001b[39;00m\u001b[38;5;21;01malgorithm\u001b[39;00m \u001b[38;5;28;01mimport\u001b[39;00m Algorithm\n",
      "\u001b[1;31mModuleNotFoundError\u001b[0m: No module named 'mesa_models.epstein_civil_violence'"
     ]
    }
   ],
   "source": [
    "# ### Step 1: Importing the Necessary Modules\n",
    "# To begin, let’s import the required modules for the Epstein Civil Violence model:\n",
    "\n",
    "from epstein_civil_violence.model import EpsteinCivilViolenceRL\n",
    "from epstein_civil_violence.server import run_model\n",
    "from epstein_civil_violence.train_config import config\n",
    "from train import train_model\n",
    "\n",
    "# Here’s a breakdown of the modules:\n",
    "# - `EpsteinCivilViolenceRL`: Contains the core model and environment.\n",
    "# - `run_model`: Configures and runs the model for inference.\n",
    "# - `config`: Defines the parameters for training the model.\n",
    "# - `train_model`: Includes functions for training the RL agent using RLlib."
   ]
  },
  {
   "cell_type": "code",
   "execution_count": null,
   "metadata": {},
   "outputs": [],
   "source": [
    "# ### Step 2: Initializing the Environment\n",
    "\n",
    "# Let's load and reset the environment. This also allows us to inspect the observation space:\n",
    "\n",
    "env = EpsteinCivilViolenceRL()\n",
    "observation, info = env.reset(seed=42)\n",
    "\n",
    "# Display initial observation and info\n",
    "print(\"Initial Observation:\", observation)\n",
    "print(\"Info:\", info)"
   ]
  },
  {
   "cell_type": "code",
   "execution_count": null,
   "metadata": {},
   "outputs": [],
   "source": [
    "# ### Step 3: Running the Environment with Random Actions\n",
    "\n",
    "# To get a feel for how the environment operates, let's run it for a few steps using random actions.\n",
    "# We’ll sample the action space for these actions:\n",
    "\n",
    "for _ in range(10):\n",
    "    action_dict = {}\n",
    "    for agent in env.schedule.agents:\n",
    "        action_dict[agent.unique_id] = env.action_space.sample()\n",
    "    observation, reward, terminated, truncated, info = env.step(action_dict)\n",
    "\n",
    "    print(\n",
    "        f\"Observation: {observation}, Reward: {reward}, Terminated: {terminated}, Truncated: {truncated}, Info: {info}\"\n",
    "    )\n",
    "\n",
    "    if terminated or truncated:\n",
    "        observation, info = env.reset()"
   ]
  },
  {
   "cell_type": "code",
   "execution_count": null,
   "metadata": {},
   "outputs": [],
   "source": [
    "# ### Step 4: Training the Model\n",
    "\n",
    "# Now that you're familiar with the environment, let's train the RL model using the preset configuration:\n",
    "\n",
    "train_model(\n",
    "    config, num_iterations=1, result_path=\"results.txt\", checkpoint_dir=\"checkpoints\"\n",
    ")\n",
    "\n",
    "# You can modify the training parameters in the `train_config.py` file to experiment with different outcomes."
   ]
  },
  {
   "cell_type": "code",
   "execution_count": null,
   "metadata": {},
   "outputs": [],
   "source": [
    "# ### Step 5: Visualizing the Results\n",
    "\n",
    "# After training, you can visualize the results by running inference on the model.\n",
    "# Mesa's built-in visualization tools will help you launch a webpage to view the model's performance:\n",
    "\n",
    "# server = run_model(path=\"checkpoints\")\n",
    "# You can also try running pre-trained checkpoints present in model folder\n",
    "server = run_model(model_path=\"rl_models/epstein_civil_violence\")\n",
    "server.port = 6005\n",
    "server.launch(open_browser=True)"
   ]
  },
  {
   "cell_type": "markdown",
   "metadata": {},
   "source": [
    "# Alternative Approach: Using Stable-Baselines with Mesa\n",
    "\n",
    "In the example above, we utilized RLlib to integrate reinforcement learning algorithms with the Mesa environment, which is particularly useful when you want different policies for different agents. \n",
    "However, if your use case requires a simpler setup where all agents follow the same policy, you can opt for Stable-Baselines. An example of integrating Stable-Baselines with Mesa can be found in the Boltzmann Money model.\n",
    "\n",
    "You can explore more on how to use Stable-Baselines with Mesa by following the respective documentation.\n"
   ]
  },
  {
   "cell_type": "markdown",
   "metadata": {},
   "source": [
    "# Implementing Your Own RL Models\n",
    "\n",
    "If you're ready to explore RL in different agent-based scenarios, you can start by experimenting with various examples we provide at Mesa-Examples:\n",
    "Link: https://github.com/projectmesa/mesa-examples\n",
    "\n",
    "These examples cover a range of scenarios and offer a great starting point for understanding how to apply RL within Mesa environments.\n",
    "\n",
    "If you have your own scenario in mind, you can create it as a Mesa model by following this series of Tutorials:\n",
    "Link: https://mesa.readthedocs.io/en/stable/tutorials/intro_tutorial.html\n",
    "\n",
    "Once your scenario is set up as a Mesa model, you can refer to the code in the provided implementations to see how the RL components are built on top of the respective Mesa models.\n"
   ]
  },
  {
   "cell_type": "code",
   "execution_count": null,
   "metadata": {},
   "outputs": [],
   "source": []
  }
 ],
 "metadata": {
  "kernelspec": {
   "display_name": "Python 3 (ipykernel)",
   "language": "python",
   "name": "python3"
  },
  "language_info": {
   "codemirror_mode": {
    "name": "ipython",
    "version": 3
   },
   "file_extension": ".py",
   "mimetype": "text/x-python",
   "name": "python",
   "nbconvert_exporter": "python",
   "pygments_lexer": "ipython3",
   "version": "3.12.5"
  }
 },
 "nbformat": 4,
 "nbformat_minor": 4
}
